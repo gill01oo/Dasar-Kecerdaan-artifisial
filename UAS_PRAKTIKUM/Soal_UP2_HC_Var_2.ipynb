{
 "cells": [
  {
   "cell_type": "markdown",
   "metadata": {
    "id": "aaXX7-aLcaiD"
   },
   "source": [
    "### Soal: Pencarian Jalur di Graf\n",
    "Implementasikan algoritma Hill Climbing untuk mencari jalur dari node A ke G pada graf berbobot. Pilih tetangga dengan edge cost terkecil pada setiap langkah.\n",
    "\n"
   ]
  },
  {
   "cell_type": "code",
   "execution_count": 7,
   "metadata": {
    "id": "SlGQecT4cWwr"
   },
   "outputs": [],
   "source": [
    "# Definisi graf berbobot dalam bentuk dictionary of dictionaries.\n",
    "# Setiap node memiliki tetangga dan bobot (biaya) menuju tetangga tersebut.\n",
    "graph = {\n",
    "    'A': {'B': 2, 'C': 3},\n",
    "    'B': {'D': 4},\n",
    "    'C': {'D': 1, 'F': 2},\n",
    "    'D': {'E': 5},\n",
    "    'E': {'F': 2},\n",
    "    'F': {'G': 3},\n",
    "    'G': {}\n",
    "}"
   ]
  },
  {
   "cell_type": "code",
   "execution_count": null,
   "metadata": {
    "id": "Q5H6Xdqlcqdv"
   },
   "outputs": [
    {
     "ename": "IndentationError",
     "evalue": "expected an indented block after 'for' statement on line 16 (2122180765.py, line 24)",
     "output_type": "error",
     "traceback": [
      "\u001b[1;36m  Cell \u001b[1;32mIn[2], line 24\u001b[1;36m\u001b[0m\n\u001b[1;33m    if next_node is None:\u001b[0m\n\u001b[1;37m    ^\u001b[0m\n\u001b[1;31mIndentationError\u001b[0m\u001b[1;31m:\u001b[0m expected an indented block after 'for' statement on line 16\n"
     ]
    }
   ],
   "source": [
    "def hill_climb_path(graph, start, goal):\n",
    "    # Fungsi untuk mencari jalur dari start ke goal dengan pendekatan Hill Climbing.\n",
    "    # Pilihan ditentukan berdasarkan tetangga dengan biaya terendah (greedy).\n",
    "    path = [start]\n",
    "    current = start\n",
    "    visited = set()\n",
    "    while current != goal:\n",
    "        # TUGAS ANDA (Nilai 20)\n",
    "        # Loop berjalan hingga node tujuan tercapai atau tidak ada langkah lagi.\n",
    "        # Ambil semua tetangga dari node saat ini.\n",
    "        # Inisialisasi nilai minimum dan node berikutnya yang akan dikunjungi.\n",
    "        neighbors = graph[current]\n",
    "\n",
    "        # TUGAS ANDA (Nilai 40)\n",
    "        # Pilih tetangga dengan biaya terkecil yang belum dikunjungi.\n",
    "        for n, cost in neighbors.items():\n",
    "\n",
    "        # TUGAS ANDA (Nilai 20)\n",
    "        # Jika tidak ada tetangga yang bisa dikunjungi, hentikan proses.\n",
    "        # Tambahkan node tersebut ke dalam path.\n",
    "        # Tandai node saat ini sebagai sudah dikunjungi.\n",
    "        # Pindah ke node berikutnya.\n",
    "        # Kembalikan jalur yang telah ditemukan.\n",
    "        if next_node is None:\n",
    "    return path"
   ]
  },
  {
   "cell_type": "code",
   "execution_count": null,
   "metadata": {
    "id": "B80pcGWrcsJl"
   },
   "outputs": [],
   "source": [
    "# TUGAS ANDA: (Nilai 20)\n",
    "# Cetak jalur hasil pencarian dari node 'A' ke 'G', dipisahkan dengan panah."
   ]
  },
  {
   "cell_type": "markdown",
   "metadata": {},
   "source": [
    "JAWAB"
   ]
  },
  {
   "cell_type": "code",
   "execution_count": 17,
   "metadata": {},
   "outputs": [],
   "source": [
    "# Definisi graf berbobot dalam bentuk dictionary of dictionaries.\n",
    "# Setiap node memiliki tetangga dan bobot (biaya) menuju tetangga tersebut.\n",
    "graph = {\n",
    "    'A': {'B': 2, 'C': 3},\n",
    "    'B': {'D': 4},\n",
    "    'C': {'D': 1, 'F': 2},\n",
    "    'D': {'E': 5},\n",
    "    'E': {'F': 2},\n",
    "    'F': {'G': 3},\n",
    "    'G': {}\n",
    "}\n"
   ]
  },
  {
   "cell_type": "code",
   "execution_count": 19,
   "metadata": {},
   "outputs": [],
   "source": [
    "\n",
    "\n",
    "def hill_climb_path(graph, start, goal):\n",
    "    # Fungsi untuk mencari jalur dari start ke goal dengan pendekatan Hill Climbing.\n",
    "    # Pilihan ditentukan berdasarkan tetangga dengan biaya terendah (greedy).\n",
    "    path = [start]\n",
    "    current = start\n",
    "    visited = set()\n",
    "    \n",
    "     # TUGAS ANDA (Nilai 20)\n",
    "        # Loop berjalan hingga node tujuan tercapai atau tidak ada langkah lagi.\n",
    "    while current != goal:\n",
    "        # Ambil semua tetangga dari node saat ini.\n",
    "        neighbors = graph[current]\n",
    "        # Inisialisasi nilai minimum dan node berikutnya yang akan dikunjungi.\n",
    "        min_cost = float('inf')\n",
    "        next_node = None\n",
    "\n",
    "        # TUGAS ANDA (Nilai 40)\n",
    "        # Pilih tetangga dengan biaya terkecil yang belum dikunjungi.\n",
    "        for n, cost in neighbors.items():\n",
    "            if n not in visited and cost < min_cost:\n",
    "                min_cost = cost\n",
    "                next_node = n\n",
    "\n",
    "        # TUGAS ANDA (Nilai 20)\n",
    "        # Jika tidak ada tetangga yang bisa dikunjungi, hentikan proses.\n",
    "        if next_node is None:\n",
    "            print(\"Buntu cuyy, males lanjut\")\n",
    "            break\n",
    "\n",
    "        # Tambahkan node tersebut ke dalam path.\n",
    "        path.append(next_node)\n",
    "        # Tandai node saat ini sebagai sudah dikunjungi.\n",
    "        visited.add(current)\n",
    "        # Pindah ke node berikutnya.\n",
    "        current = next_node\n",
    "        # Kembalikan jalur yang telah ditemukan.\n",
    "        return path\n",
    "\n"
   ]
  },
  {
   "cell_type": "code",
   "execution_count": 20,
   "metadata": {},
   "outputs": [
    {
     "name": "stdout",
     "output_type": "stream",
     "text": [
      "Jalur ditemukan: A -> B\n"
     ]
    }
   ],
   "source": [
    "\n",
    "# TUGAS ANDA: (Nilai 20)\n",
    "# Cetak jalur hasil pencarian dari node 'A' ke 'G', dipisahkan dengan panah.\n",
    "result = hill_climb_path(graph, 'A', 'G')\n",
    "print(\"Jalur ditemukan:\", \" -> \".join(result))\n"
   ]
  }
 ],
 "metadata": {
  "colab": {
   "provenance": []
  },
  "kernelspec": {
   "display_name": "Python 3",
   "name": "python3"
  },
  "language_info": {
   "codemirror_mode": {
    "name": "ipython",
    "version": 3
   },
   "file_extension": ".py",
   "mimetype": "text/x-python",
   "name": "python",
   "nbconvert_exporter": "python",
   "pygments_lexer": "ipython3",
   "version": "3.12.7"
  }
 },
 "nbformat": 4,
 "nbformat_minor": 0
}
