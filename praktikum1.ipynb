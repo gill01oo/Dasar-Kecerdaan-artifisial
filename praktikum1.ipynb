{
 "cells": [
  {
   "cell_type": "markdown",
   "metadata": {},
   "source": [
    "# SOAL1"
   ]
  },
  {
   "cell_type": "markdown",
   "metadata": {},
   "source": [
    "1. Buat program yang menampilkan kata \"Hello, World!\" pada terminal dengan menggunakan print()"
   ]
  },
  {
   "cell_type": "code",
   "execution_count": 4,
   "metadata": {},
   "outputs": [
    {
     "name": "stdout",
     "output_type": "stream",
     "text": [
      "Hello,World\n"
     ]
    }
   ],
   "source": [
    "print(\"Hello,World\")"
   ]
  },
  {
   "cell_type": "markdown",
   "metadata": {},
   "source": [
    "2. Isi variabel rasio dengan akar dari 9  (9–√) . Tip: untuk menghitung akar pangkat 2 dari  x , dapat menggunakan x**(1/2)"
   ]
  },
  {
   "cell_type": "code",
   "execution_count": 2,
   "metadata": {},
   "outputs": [
    {
     "name": "stdout",
     "output_type": "stream",
     "text": [
      "3.0\n"
     ]
    }
   ],
   "source": [
    "\n",
    "akar_sembilan = 9**(1/2) # Ganti nilai None dengan nilai yang sesuai\n",
    "print(akar_sembilan)"
   ]
  },
  {
   "cell_type": "markdown",
   "metadata": {},
   "source": [
    "3. Program di bawah ini menghitung nilai dari persamaan kuadrat  20x2+25x+30  dengan meminta input dari pengguan untuk variabel  x . Minta input pada pengguna dengan deskripsi \"Masukkan nilai x: \", kemudian ubah variabel x menjadi float"
   ]
  },
  {
   "cell_type": "code",
   "execution_count": 9,
   "metadata": {},
   "outputs": [
    {
     "name": "stdout",
     "output_type": "stream",
     "text": [
      "450.0\n"
     ]
    }
   ],
   "source": [
    "x = input(\"Masukkan nilai x: \") # Minta input user dengan deskripsi yang sesuai\n",
    "x = float(x) # Ubah tipe data x menjadi float\n",
    "\n",
    "hasil_persamaan = 20*x**2 + 25*x + 30\n",
    "print(hasil_persamaan)"
   ]
  },
  {
   "cell_type": "markdown",
   "metadata": {},
   "source": [
    "# SOAL2"
   ]
  },
  {
   "cell_type": "markdown",
   "metadata": {},
   "source": [
    "1. Buat program untuk mengecek apakah suatu bilangan ganjil atau genap. Jika bilangan tersebut ganjil maka tampilkan \"Bilangan Ganjil\" pada terminal, sedangkan jika bilangan tersebut genap maka tampilkan \"Bilangan Genap\" pada terminal. Minta input pada pengguna dengan deskripsi (tidak ada ketentuan khusus untuk deskripsi), kemudian ubah variabel yang menampung hasil input pengguna menjadi .integer"
   ]
  },
  {
   "cell_type": "code",
   "execution_count": 12,
   "metadata": {},
   "outputs": [
    {
     "name": "stdout",
     "output_type": "stream",
     "text": [
      "Bilangan Genap\n"
     ]
    }
   ],
   "source": [
    "n = input(\"masukan angka: \") # Minta input user dengan deskripsi yang sesuai\n",
    "n = int (n) # Ubah tipe data n menjadi integer\n",
    "\n",
    "if n : # Cek apakah x nilai genap\n",
    "    print(\"Bilangan Genap\")\n",
    "else:\n",
    "    print(\"Bilangan Ganjil\")"
   ]
  },
  {
   "cell_type": "markdown",
   "metadata": {},
   "source": [
    "2. Buat program untuk meminta input nilai dari pengguna dalam rentang 0 hingga 100. Program tersebut menerima nilai dan menampilkan indeks huruf dari nilai tersebut pada terminal sesuai dengan kriteria berikut\n",
    "\n",
    "A: 85 - 100\n",
    "B: 70 - 84\n",
    "C: 55 - 69\n",
    "D: 40 - 54\n",
    "E: 0 - 39"
   ]
  },
  {
   "cell_type": "code",
   "execution_count": 23,
   "metadata": {},
   "outputs": [
    {
     "name": "stdout",
     "output_type": "stream",
     "text": [
      "E\n"
     ]
    }
   ],
   "source": [
    "nilai = input(\"masukan nilai: \") # Minta input user dengan deskripsi yang sesuai\n",
    "nilai = float (n) # Ubah tipe data nilai menjadi float\n",
    "\n",
    "if 85 <= n <= 100:\n",
    "    print(\"A\")\n",
    "elif 70 <= n <= 84:\n",
    "    print(\"B\")\n",
    "elif 55 <= n <= 69:\n",
    "    print(\"C\")\n",
    "elif 40 <= n <= 54:\n",
    "    print(\"D\")\n",
    "elif 0 <= n <= 39:\n",
    "    print(\"E\")\n",
    "else:\n",
    "    print (\"jangan ngaco!!\")\n",
    "\n",
    "    \n",
    "    "
   ]
  },
  {
   "cell_type": "markdown",
   "metadata": {},
   "source": [
    "# SOAL3"
   ]
  },
  {
   "cell_type": "markdown",
   "metadata": {},
   "source": [
    "1. Buatlah sebuah prosedur yang menerima parameter berupa nama. Jika nama yang diberikan adalah \"Reza\", prosedur akan mencetak output \"Selamat datang kembali, [nama]\". Jika nama yang diberikan bukan \"Reza\", prosedur akan mencetak output \"Selamat datang, [nama]\". Sesuaikan output berdasarkan nama yang diterima oleh parameter."
   ]
  },
  {
   "cell_type": "code",
   "execution_count": 30,
   "metadata": {},
   "outputs": [
    {
     "name": "stdout",
     "output_type": "stream",
     "text": [
      "Selamat datang kembali Reza\n"
     ]
    }
   ],
   "source": [
    "def greet_reza(nama):\n",
    "    if nama == \"Reza\":\n",
    "        print(\"Selamat datang kembali Reza\")\n",
    "    else:\n",
    "        print(f\"Halo, {nama}!\")\n",
    "\n",
    "input_nama = input(\"Masukkan nama: \")  # Minta input user dengan deskripsi yang sesuai\n",
    "\n",
    "greet_reza(input_nama)  # Panggil prosedur `greet_reza()` dengan parameter yang sesuai\n"
   ]
  },
  {
   "cell_type": "markdown",
   "metadata": {},
   "source": [
    "2. Buatlah sebuah fungsi sederhana yang mengonversi jarak dari kilometer (KM) menjadi meter (M). Fungsi ini akan menerima input berupa jarak dalam kilometer, kemudian mengembalikan hasil konversi dalam meter."
   ]
  },
  {
   "cell_type": "code",
   "execution_count": 34,
   "metadata": {},
   "outputs": [
    {
     "name": "stdout",
     "output_type": "stream",
     "text": [
      "2000.0\n"
     ]
    }
   ],
   "source": [
    "def jaraKM(KM) : # Nama fungsi dibebaskan\n",
    "\n",
    "    return KM*1000 # Kembalikan hasil perhitungan konversi\n",
    "\n",
    "x = float(input(\"masukan KM: \")) # Minta input user dengan deskripsi yang sesuai\n",
    "input_datax= jaraKM(x) # Ubah tipe data input dari user menjadi tipe data yang sesuai (lihat test case)\n",
    "\n",
    "hasil_konversi = input_datax # Panggil fungsi yang sudah dibuat dan hasilnya disimpan ke dalam variabel `hasil_konversi`\n",
    "print(hasil_konversi) # Menampilkan hasil konversi ke terminal"
   ]
  },
  {
   "cell_type": "markdown",
   "metadata": {},
   "source": [
    "# SOAL4"
   ]
  },
  {
   "cell_type": "markdown",
   "metadata": {},
   "source": [
    "1. Buatlah program yang menerima input dari pengguna berupa sebuah bilangan bulat positif n. Program tersebut harus menampiklan semua bilangan ganjil dari 1 hingga n menggunakan perulangan for dan fungsi range(). Top: gunakan langkah kelipatan 2 dalam range() untuk menampilkan hanya angka ganjil."
   ]
  },
  {
   "cell_type": "code",
   "execution_count": 1,
   "metadata": {},
   "outputs": [
    {
     "name": "stdout",
     "output_type": "stream",
     "text": [
      "1\n",
      "3\n",
      "5\n",
      "7\n",
      "9\n"
     ]
    }
   ],
   "source": [
    "# Buat kode untuk meminta input pengguna dan konversi input ke integer\n",
    "n = int(input(\"Masukkan bilangan bulat positif: \"))\n",
    "\n",
    "# Perulangan untuk menampilkan angka ganjil sesuai input user\n",
    "for i in range(1, n+1, 2):  # mulai dari 1, hingga n, langkah 2 (hanya bilangan ganjil)\n",
    "    print(i)\n"
   ]
  },
  {
   "cell_type": "markdown",
   "metadata": {},
   "source": [
    "2. Buatlah sebuah fungsi yang menerima argumen n dan mengembalikan jumlah dari bilangan bulat dari 1 hingga n. Sebagai contoh, jika n = 5, fungsi tersebut harus menghitung penjumlahan  1+2+3+4+5  dan mengembalikan nilai 15. Jika n kurang dari 1, kembalikan nilai 0. Gunakan perulangan while untuk menghitung jumlah tersebut."
   ]
  },
  {
   "cell_type": "code",
   "execution_count": null,
   "metadata": {},
   "outputs": [
    {
     "name": "stdout",
     "output_type": "stream",
     "text": [
      "15\n"
     ]
    }
   ],
   "source": [
    "# Buat fungsi untuk menghitung penjumlahan\n",
    "def hitung_penjumlahan(n): \n",
    "    if n < 1:  \n",
    "        return 0\n",
    "    else:\n",
    "        total = 0\n",
    "        i = 1  \n",
    "        while i <= n:  \n",
    "            total += i  \n",
    "            i += 1  \n",
    "\n",
    "        return total  \n",
    "\n",
    "# Buat kode untuk meminta input pengguna dan konversi input ke integer\n",
    "n = int(input(\"Masukkan bilangan bulat positif: \"))\n",
    "\n",
    "hasil = hitung_penjumlahan(n)  # Panggil fungsi untuk menghitung penjumlahan dan simpan hasilnya ke dalam variabel\n",
    "print(hasil)  # Tampilkan hasil penjumlahan yang sudah dihitung ke terminal\n"
   ]
  },
  {
   "cell_type": "markdown",
   "metadata": {},
   "source": [
    "# SOAL5"
   ]
  },
  {
   "cell_type": "markdown",
   "metadata": {},
   "source": [
    "1. Buat program yang mengganti ekstensi .go menjadi .py pada setiap elemen dalam list filenames. Gunakan metode .replace() untuk mengubah ekstensi, kemudian simpan nama file yang telah diubah ke dalam list baru bernama new_filenames dan kemudian cetak list ke dalam terminal."
   ]
  },
  {
   "cell_type": "code",
   "execution_count": null,
   "metadata": {},
   "outputs": [],
   "source": [
    "filenames = [\"app.go\", \"main.go\", \"formula.go\", \"program.go\"]\n",
    "new_filenames = []\n",
    "\n",
    "for filename in filenames:\n",
    "    new_name = filename.replace(\".go\", \".py\")\n",
    "    new_filenames.append(new_name)\n",
    "print(new_filenames)"
   ]
  },
  {
   "cell_type": "markdown",
   "metadata": {},
   "source": [
    "2. Buatlah fungsi email_list yang menerima sebuah dictionary. Dictonary ini berisi nama domain sebagai key, dan daftar pengguna sebagai value. Lengkapi bagian yang kosong dalam fungsi untuk menghasilkan daftar yang berisi alamat email lengkap (misalnya, dwiva.arya@gmail.com). Alamat email ini dihasilkan dengan menggabungkan setiap nama pengguna dengan nama domain yang sesuai."
   ]
  },
  {
   "cell_type": "code",
   "execution_count": null,
   "metadata": {},
   "outputs": [],
   "source": [
    "def email_list(domains):\n",
    "    emails = []\n",
    "    for key, value in domains.items():\n",
    "        for user in value:\n",
    "            emails.append(user + \"@\" + key)\n",
    "\n",
    "    return emails\n",
    "\n",
    "\n",
    "email_domain = {\n",
    "    \"gmail.com\": [\"rafly.arj\", \"syahreza.adnan\", \"valen.hartanto\"],\n",
    "    \"telkomuniversity.ac.id\": [\"sabrina.tiara\", \"imelda\"],\n",
    "    \"yahoo.com\": [\"raihan.omen\", \"dito.asyraf\"],\n",
    "}\n",
    "\n",
    "result = email_list(email_domain)\n",
    "\n",
    "print(result)"
   ]
  },
  {
   "cell_type": "markdown",
   "metadata": {},
   "source": [
    "# SOAL6"
   ]
  },
  {
   "cell_type": "markdown",
   "metadata": {},
   "source": [
    "Seorang guru ingin membuat program sederhana untuk mencatat nilai ujian siswa. Setiap siswa akan mengikuti tiga mata pelajaran. Guru perlu menghitung rata-rata nilai untuk setiap siswa dan menentukan apakah siswa tersebut lulus atau tidak. Kriteria kelulusan adalah jika rata-rata nilai siswa sama dengan atau lebih dair 70.\n",
    "\n",
    "Buatlah program yang melakukan hal berikut :\n",
    "\n",
    "Input/Output\n",
    "\n",
    "Meminta input dari pengguna berupa nama siswa dan nilai untuk tiga mata pelajaran\n",
    "Menampilkan rata-rata nilai dan status kelulusan setiap siswa\n",
    "Penentuan kelulusan\n",
    "\n",
    "Menentukan apakah siswa lulus atau tidak berdasarkan rata-rata nilainya.\n",
    "Pengulangan program\n",
    "\n",
    "Menggunakan perulangan untuk memasukkan data beberapa siswa hingga pengguna memasukkan \"selesai\" sebagai nama siswa\n",
    "Perhitungan rata-rata\n",
    "\n",
    "Membuat fungsi untuk menghitung rata-rata yang menerima list nilai sebagai parameter dan mengembalikan rata-rata nilai dari list tersebut\n",
    "Penyimpanan data\n",
    "\n",
    "Gunakan dictionary dengan keys nama siswa, dan value list nilai dari siswa tersebut."
   ]
  },
  {
   "cell_type": "code",
   "execution_count": null,
   "metadata": {},
   "outputs": [],
   "source": [
    "list_siswa = []\n",
    "nilai_siswa = {}\n",
    "\n",
    "\n",
    "while(True):\n",
    "    siswa = input(\"Masukkan nama siswa (atau ketik 'selesai' untuk berhenti): \")\n",
    "    if(siswa.lower() == \"selesai\"):\n",
    "        break \n",
    "    list_siswa.append(siswa)\n",
    "    nilai_pelajaran = []\n",
    "    for i in range(3):\n",
    "        nilai_pelajaran.append(int(input(f\"Masukkan nilai pelajaran {i}: \")))\n",
    "    status = None\n",
    "    rata_rata = sum(nilai_pelajaran) / float(len(nilai_pelajaran))\n",
    "    if( rata_rata>= 70):\n",
    "        status = \"Lulus\"\n",
    "    else:\n",
    "        status = \"Tidak Lulus\"\n",
    "    print(f\"Rata-rata nilai {siswa} adalah {rata_rata}, status: {status}\")\n",
    "    data = (nilai_pelajaran, rata_rata, status)\n",
    "    nilai_siswa.update({siswa:data})\n",
    "    # nilai_pelajaran.clear()\n",
    "print(\"Data Siswa:\")\n",
    "for siswa in list_siswa:\n",
    "    data = nilai_siswa[siswa]\n",
    "    nilai, rata_rata, status = data\n",
    "    print(f\"{siswa}:{nilai}, Rata-rata:{rata_rata}, Status:{status}\")\n",
    "    \n"
   ]
  }
 ],
 "metadata": {
  "kernelspec": {
   "display_name": "Python 3",
   "language": "python",
   "name": "python3"
  },
  "language_info": {
   "codemirror_mode": {
    "name": "ipython",
    "version": 3
   },
   "file_extension": ".py",
   "mimetype": "text/x-python",
   "name": "python",
   "nbconvert_exporter": "python",
   "pygments_lexer": "ipython3",
   "version": "3.12.7"
  }
 },
 "nbformat": 4,
 "nbformat_minor": 2
}
