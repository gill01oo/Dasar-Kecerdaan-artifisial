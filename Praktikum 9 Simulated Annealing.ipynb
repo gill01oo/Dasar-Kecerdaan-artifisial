{
 "cells": [
  {
   "cell_type": "markdown",
   "id": "080af0a7",
   "metadata": {},
   "source": [
    "RUMUS ECLUDIAN\n",
    "\n",
    "akar((x2-x1)kuadrat + (y2-y1)kuadrat)"
   ]
  },
  {
   "cell_type": "markdown",
   "id": "6e18e3a6",
   "metadata": {},
   "source": [
    "Import library"
   ]
  },
  {
   "cell_type": "code",
   "execution_count": 3,
   "id": "51b63825",
   "metadata": {},
   "outputs": [],
   "source": [
    "import random\n",
    "import math"
   ]
  },
  {
   "cell_type": "markdown",
   "id": "e67e70e0",
   "metadata": {},
   "source": [
    "Deklarasi function"
   ]
  },
  {
   "cell_type": "code",
   "execution_count": 4,
   "id": "59c49dcc",
   "metadata": {},
   "outputs": [],
   "source": [
    "def distance(city1, city2):\n",
    "    return math.sqrt((city1[0] - city2[0]) ** 2 + (city1[1] - city2[1]) ** 2)\n",
    "\n",
    "def total_distance(tour, cities):\n",
    "    dist = 0\n",
    "    for i in range(len(tour)):\n",
    "        dist += distance(cities[tour[i]], cities[tour[(i + 1) % len(tour)]])\n",
    "    return dist\n",
    "\n",
    "def random_swap(tour):\n",
    "    new_tour = tour[:]\n",
    "    i, j = random.sample(range(len(tour)), 2)\n",
    "    new_tour[i], new_tour[j] = new_tour[j], new_tour[i]\n",
    "    return new_tour"
   ]
  },
  {
   "cell_type": "markdown",
   "id": "ee68bb87",
   "metadata": {},
   "source": [
    "simulated annealing Algorithm"
   ]
  },
  {
   "cell_type": "code",
   "execution_count": 7,
   "id": "9367b540",
   "metadata": {},
   "outputs": [
    {
     "name": "stdout",
     "output_type": "stream",
     "text": [
      "Salesman 1 - Kota dikunjungi (indeks global): [6, 1, 0, 4]\n",
      "Jarak total Salesman 1: 81.4911148707509\n",
      "Salesman 2 - Kota dikunjungi (indeks global): [2, 5, 7, 3]\n",
      "Jarak total Salesman 2: 89.77950591199578\n",
      "Total jarak gabungan: 171.27062078274668\n"
     ]
    }
   ],
   "source": [
    "def simulated_annealing(cities, initial_temp, cooling_rate, stopping_temp):\n",
    "    current_solution = list(range(len(cities)))\n",
    "    random.shuffle(current_solution)\n",
    "    current_distance = total_distance(current_solution, cities)\n",
    "    best_solution = current_solution[:]\n",
    "    best_distance = current_distance\n",
    "    temp = initial_temp\n",
    "\n",
    "    while temp > stopping_temp:\n",
    "        new_solution = random_swap(current_solution)\n",
    "        new_distance = total_distance(new_solution, cities)\n",
    "        if new_distance < current_distance:\n",
    "            current_solution = new_solution[:]\n",
    "            current_distance = new_distance\n",
    "            if current_distance < best_distance:\n",
    "                best_solution = current_solution[:]\n",
    "                best_distance = current_distance\n",
    "        else:\n",
    "            if random.random() < math.exp((current_distance - new_distance) / temp):\n",
    "                current_solution = new_solution[:]\n",
    "                current_distance = new_distance\n",
    "        temp *= cooling_rate\n",
    "    return best_solution, best_distance\n",
    "\n",
    "# Kota berdasarkan grafik (disesuaikan dari gambar)\n",
    "cities = [\n",
    "    (10, 40), (20, 38), (13, 26), (18, 18),\n",
    "    (30, 25), (35, 30), (45, 40), (50, 10)\n",
    "]\n",
    "\n",
    "# Bagi kota secara acak untuk dua salesman\n",
    "indices = list(range(len(cities)))\n",
    "random.shuffle(indices)\n",
    "salesman1_idx = sorted(indices[:4])\n",
    "salesman2_idx = sorted(indices[4:])\n",
    "\n",
    "# Buat subset kota untuk masing-masing salesman\n",
    "cities1 = [cities[i] for i in salesman1_idx]\n",
    "cities2 = [cities[i] for i in salesman2_idx]\n",
    "\n",
    "# Simulated Annealing parameter\n",
    "init_temp = 1000\n",
    "cooling = 0.995\n",
    "stop_temp = 1\n",
    "\n",
    "# Run SA untuk masing-masing salesman\n",
    "solution1, dist1 = simulated_annealing(cities1, init_temp, cooling, stop_temp)\n",
    "solution2, dist2 = simulated_annealing(cities2, init_temp, cooling, stop_temp)\n",
    "\n",
    "# Cetak hasil\n",
    "print(\"Salesman 1 - Kota dikunjungi (indeks global):\", [salesman1_idx[i] for i in solution1])\n",
    "print(\"Jarak total Salesman 1:\", dist1)\n",
    "print(\"Salesman 2 - Kota dikunjungi (indeks global):\", [salesman2_idx[i] for i in solution2])\n",
    "print(\"Jarak total Salesman 2:\", dist2)\n",
    "print(\"Total jarak gabungan:\", dist1 + dist2)"
   ]
  }
 ],
 "metadata": {
  "kernelspec": {
   "display_name": "Python 3",
   "language": "python",
   "name": "python3"
  },
  "language_info": {
   "codemirror_mode": {
    "name": "ipython",
    "version": 3
   },
   "file_extension": ".py",
   "mimetype": "text/x-python",
   "name": "python",
   "nbconvert_exporter": "python",
   "pygments_lexer": "ipython3",
   "version": "3.13.2"
  }
 },
 "nbformat": 4,
 "nbformat_minor": 5
}
